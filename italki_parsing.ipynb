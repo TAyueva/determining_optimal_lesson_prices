{
 "cells": [
  {
   "cell_type": "markdown",
   "id": "e082eaa1",
   "metadata": {},
   "source": [
    "# Import libraries"
   ]
  },
  {
   "cell_type": "code",
   "execution_count": null,
   "id": "b87d4897",
   "metadata": {},
   "outputs": [],
   "source": [
    "import warnings\n",
    "warnings.filterwarnings('ignore')\n",
    "\n",
    "import time\n",
    "\n",
    "import pandas as pd\n",
    "import numpy as np\n",
    "\n",
    "#libraries for parsing\n",
    "\n",
    "from selenium.webdriver.common.by import By\n",
    "from selenium import webdriver"
   ]
  },
  {
   "cell_type": "code",
   "execution_count": null,
   "id": "abaea5a1",
   "metadata": {},
   "outputs": [],
   "source": [
    "#Path for chromedriver\n",
    "EXECUTABLE_PATH ='/chromedriver'"
   ]
  },
  {
   "cell_type": "markdown",
   "id": "940b4183",
   "metadata": {},
   "source": [
    "# Extract teachers links"
   ]
  },
  {
   "cell_type": "markdown",
   "id": "9ef1d570",
   "metadata": {},
   "source": [
    "First, we need to collect teachers links.\n",
    "- Open browser, italki website\n",
    "- To download all the teachers, we should to click the \"show more\" button many times\n",
    "- Find teachers links"
   ]
  },
  {
   "cell_type": "code",
   "execution_count": null,
   "id": "d2caee41",
   "metadata": {},
   "outputs": [],
   "source": [
    "# AllTeachersPage locators\n",
    "class AllTeachersPageLocators:\n",
    "    TEACHER_LINK_LOCATOR = '//*[@id=\"teacher-search-list\"]/div[3]/div[1]/a'\n",
    "    SHOW_MORE_LOCATOR = '//*[@id=\"teacher-search-list\"]/div[3]/div[1]/div[3]/a'"
   ]
  },
  {
   "cell_type": "code",
   "execution_count": null,
   "id": "aa414d7e",
   "metadata": {},
   "outputs": [],
   "source": [
    "# show more and teacher links\n",
    "class AllTeachersPage:\n",
    "    def __init__(self, browser):\n",
    "        self.browser = browser\n",
    "    \n",
    "    def teachers_links_list(self):\n",
    "        locator = AllTeachersPageLocators.TEACHER_LINK_LOCATOR\n",
    "        all_teachers = self.browser.find_elements(By.XPATH, locator)\n",
    "        return [teacher.get_attribute(\"href\") for teacher in all_teachers]\n",
    "\n",
    "    @property\n",
    "    def show_more_button(self):\n",
    "        locator = AllTeachersPageLocators.SHOW_MORE_LOCATOR\n",
    "        return self.browser.find_element(By.XPATH, locator)"
   ]
  },
  {
   "cell_type": "code",
   "execution_count": null,
   "id": "22d99acc",
   "metadata": {},
   "outputs": [],
   "source": [
    "driver = webdriver.Chrome(executable_path=EXECUTABLE_PATH)\n",
    "driver.get('https://www.italki.com/en/teachers/english')"
   ]
  },
  {
   "cell_type": "code",
   "execution_count": null,
   "id": "7ca3f5ec",
   "metadata": {},
   "outputs": [],
   "source": [
    "page = AllTeachersPage(driver)"
   ]
  },
  {
   "cell_type": "code",
   "execution_count": null,
   "id": "ceb3ecf2",
   "metadata": {},
   "outputs": [],
   "source": [
    "for i in range(140):  \n",
    "    page.show_more_button.click()\n",
    "    time.sleep(3)"
   ]
  },
  {
   "cell_type": "code",
   "execution_count": null,
   "id": "69f48d68",
   "metadata": {},
   "outputs": [],
   "source": [
    "all_teachers_df = pd.DataFrame(page.teachers_links_list(), columns=['link'])"
   ]
  },
  {
   "cell_type": "markdown",
   "id": "ea240618",
   "metadata": {},
   "source": [
    "# Extract all information about each teacher"
   ]
  },
  {
   "cell_type": "markdown",
   "id": "c79ec61a",
   "metadata": {},
   "source": [
    "1. link. \n",
    "    Teacher's link.\n",
    "2. teacher_type. <br/>\n",
    "     Professional Teacher or Community Tutor.\n",
    "3. is_native. <br/>\n",
    "    Is teacher native english speaker or not.\n",
    "4. main_info. <br/>\n",
    "    Main information about the teacher.   \n",
    "5. country_from. <br/>\n",
    "    Teacher's homecountry.\n",
    "6. country_living. <br/>\n",
    "    The country where the teacher currently lives.\n",
    "7. rating. <br/>\n",
    "    Teacher's rating.\n",
    "8. students_num. <br/>\n",
    "    The number of students of the teacher.\n",
    "9. lessons_num. <br/>\n",
    "    The number of teacher lessons.\n",
    "10. attendance. <br/>\n",
    "    Percentage of teacher attendance.\n",
    "11. response. <br/>\n",
    "    Percentage of teacher response.\n",
    "12. reviews_num. <br/>\n",
    "    The number of reviews. \n",
    "13. about_info. <br/>\n",
    "    Information about the teacher.   \n",
    "14. since_date.<br/>\n",
    "    Teachers on italki since this date.\n",
    "15. trial. <br/>\n",
    "    Trial lesson price.\n",
    "16. teacher_style. <br/>\n",
    "    Information about the teacher style.\n",
    "17. lessons_style. <br/>\n",
    "    Information about the lessons style.\n",
    "18. resume. <br/>\n",
    "    Teacher resume.\n",
    "19. languages. <br/>\n",
    "    List of languages spoken by the teacher.\n",
    "20. all_lessons_info. <br/>\n",
    "    All information about the lessons."
   ]
  },
  {
   "cell_type": "code",
   "execution_count": null,
   "id": "12841447",
   "metadata": {},
   "outputs": [],
   "source": [
    "# AllTeachersPage locators\n",
    "teacher_locators_dict_1 = {\n",
    "    'TEACHER_TYPE': '//*[@id=\"about_me\"]/div[1]/div[1]/div[2]/div[2]',\n",
    "    'IS_NATIVE': '//*[@id=\"about_me\"]/div[1]/div[1]/div[2]/div[3]/div[1]',\n",
    "    'MAIN_INFO':  '//*[@id=\"readmore\"]/div[2]/div[1]/div/div[2]/span',\n",
    "    'COUNTRY_FROM': '//*[@id=\"readmore\"]/div[2]/div[1]/div/div[1]/span[1]',\n",
    "    'COUNTRY_LIVING': '//*[@id=\"readmore\"]/div[2]/div[1]/div/div[1]/span[2]',\n",
    "    'RATING': '//*[@id=\"about_me\"]/div[2]/div[1]/div[1]/div[1]/div',\n",
    "    'STUDENTS_NUM': '//*[@id=\"about_me\"]/div[2]/div[1]/div[2]/div[1]',\n",
    "    'LESSONS_NUM': '//*[@id=\"about_me\"]/div[2]/div[1]/div[3]/div[1]',\n",
    "    'ATTENDANCE': '//*[@id=\"about_me\"]/div[2]/div[1]/div[4]/div[1]',\n",
    "    'RESPONSE': '//*[@id=\"about_me\"]/div[2]/div[1]/div[5]/div[1]',\n",
    "    'REVIEWS_NUM': '//*[@id=\"reviews\"]/div[1]/h2'\n",
    "    }\n",
    "  \n",
    "teacher_locators_dict_2 = {\n",
    "    'ABOUT_INFO':['//*[@id=\"readmore\"]/div[2]/div[1]/div/div[3]/span',\n",
    "                '//*[@id=\"readmore\"]/div[2]/div[1]/div/div[2]/span',\n",
    "                 '//*[@id=\"readmore\"]/div[2]/div[1]/div/div[2]/span'],\n",
    "    'SINCE_DATE': ['//*[@id=\"readmore\"]/div[2]/div[1]/div/div[3]/div/span',\n",
    "                   '//*[@id=\"readmore\"]/div[2]/div[1]/div/div[2]/div/span',\n",
    "                  '//*[@id=\"readmore\"]/div[2]/div/div/div[2]/div/span'],\n",
    "    'TRIAL': ['//*[@id=\"__next\"]/div/div[2]/div[2]/div/div[2]/div[1]/div[2]',\n",
    "               '//*[@id=\"__next\"]/div[1]/div[2]/div[2]/div/div/div[1]/div[2]',\n",
    "              '//*[@id=\"__next\"]/div[1]/div[2]/div[2]/div/div/div[1]/div[2]']\n",
    "    }\n",
    "\n",
    "teacher_locators_dict_3 = {    \n",
    "    'TEACHER_STYLE': ['//*[@id=\"readmore\"]/div[1]/div[1]/div/div/div/div/div[1]/div[2]', \n",
    "                      '//*[@id=\"readmore\"]/div[3]/div/div/span'],\n",
    "    'LESSONS_STYLE': ['//*[@id=\"readmore\"]/div[1]/div[1]/div/div/div/div/div[1]/div[3]', \n",
    "                      '//*[@id=\"readmore\"]/div[4]/div[1]/div/div[1]/span'],\n",
    "    'RESUME': ['//*[@id=\"readmore\"]/div[1]/div[1]/div/div/div/div/div[1]/div[4]',\n",
    "               '//*[@id=\"readmore\"]/div[5]/div/div/div/div/div[2]']\n",
    "    }\n",
    "\n",
    "languages_locator =  '//*[@id=\"about_me\"]/div[1]/div[1]/div[2]/div[3]/div[2]/div[2]/div/span'\n",
    "\n",
    "ALL_LESSONS_LOCATOR = '//*[@id=\"lessons\"]/div[2]'\n",
    "\n",
    "LESSON_INFO_LOCATOR = '/html/body/div[6]/div/div[2]/div/div[2]/div[2]'\n",
    "LESSON_INFO_LOCATOR_2 = '/html/body/div[5]/div/div[2]/div/div[2]/div[2]'\n",
    "LESSON_CLOSE_BTN = '/html/body/div[6]/div/div[2]/div/div[2]/button'\n",
    "LESSON_CLOSE_BTN_2 = '/html/body/div[5]/div/div[2]/div/div[2]/button'"
   ]
  },
  {
   "cell_type": "code",
   "execution_count": null,
   "id": "1ab14fd9",
   "metadata": {},
   "outputs": [],
   "source": [
    "class Teacher:\n",
    "    def __init__(self, browser):\n",
    "        self.browser = browser\n",
    "    \n",
    "    def button_click(self, locator_btn):\n",
    "        try:\n",
    "            self.browser.find_element(By.XPATH,locator_btn).click()\n",
    "        except:\n",
    "            pass\n",
    "        \n",
    "    def load_data_text(self, locator):\n",
    "        try:\n",
    "            return self.browser.find_element(By.XPATH, locator).text\n",
    "        except:\n",
    "            return np.NAN\n",
    "        \n",
    "    def load_data_text_2(self, locators):\n",
    "        try:\n",
    "            return self.browser.find_element(By.XPATH, locators[0]).text\n",
    "        except:\n",
    "            try:\n",
    "                return self.browser.find_element(By.XPATH, locators[1]).text\n",
    "            except:\n",
    "                try:\n",
    "                    return self.browser.find_element(By.XPATH, locators[2]).text\n",
    "                except:\n",
    "                    return np.nan\n",
    "                \n",
    "    def load_data_text_3(self, locators):\n",
    "        try:\n",
    "            lesson_info = self.browser.find_element(By.XPATH, locators[0]).text\n",
    "            self.button_click(LESSON_CLOSE_BTN)\n",
    "            return lesson_info\n",
    "        except:\n",
    "            try:\n",
    "                lesson_info = self.browser.find_element(By.XPATH, locators[1]).text\n",
    "                self.button_click(LESSON_CLOSE_BTN_2)\n",
    "                return lesson_info\n",
    "            except:\n",
    "                return np.nan\n",
    "    \n",
    "    def load_data_text_btn(self, locator_btn, locator):\n",
    "        self.button_click(locator_btn)\n",
    "        return self.load_data_text(locator)\n",
    "    \n",
    "    \n",
    "    def teacher_info_1(self):\n",
    "        return [self.load_data_text(locator) for locator in teacher_locators_dict_1.values()]\n",
    "\n",
    "    def teacher_info_2(self):\n",
    "        return [self.load_data_text_2(locators) for locators in teacher_locators_dict_2.values()]\n",
    "       \n",
    "    def teacher_info_3(self):\n",
    "        return [self.load_data_text_btn(*locators) for locators in teacher_locators_dict_3.values()]\n",
    "    \n",
    "    def languages(self):\n",
    "        try:\n",
    "            return [x.text for x in self.browser.find_elements(By.XPATH, languages_locator)]\n",
    "        except:\n",
    "            return [x.text for x in self.browser.find_elements(By.XPATH, languages_locator_2)]\n",
    "        \n",
    "    \n",
    "    def one_lesson_info(self, i):\n",
    "        self.button_click(f'{ALL_LESSONS_LOCATOR}/div[{i}]')\n",
    "        time.sleep(5)\n",
    "        lesson_info = self.load_data_text_3([LESSON_INFO_LOCATOR, LESSON_INFO_LOCATOR_2])\n",
    "        return lesson_info\n",
    "    \n",
    "    def all_lessons_info(self):\n",
    "        parent_element = self.browser.find_element(By.XPATH, ALL_LESSONS_LOCATOR)\n",
    "        stop = len(parent_element.find_elements(By.XPATH,'*'))\n",
    "        lessons_info = []\n",
    "        for i in range(2,stop+1):\n",
    "            lessons_info.append(self.one_lesson_info(i))\n",
    "            time.sleep(5)\n",
    "        return [lessons_info]    \n",
    "        \n",
    "    def teacher_info(self):\n",
    "        return self.teacher_info_1() + self.teacher_info_2() + self.teacher_info_3() + [self.languages()] \\\n",
    "                + self.all_lessons_info()"
   ]
  },
  {
   "cell_type": "code",
   "execution_count": null,
   "id": "4ddfe138",
   "metadata": {},
   "outputs": [],
   "source": [
    "for row in range(all_teachers_df.shape[0]):\n",
    "    \n",
    "    teacher_url = all_teachers_df.link[row]\n",
    "    \n",
    "    driver = webdriver.Chrome(executable_path = EXECUTABLE_PATH)\n",
    "    driver.get(teacher_url)\n",
    "\n",
    "    page = Teacher(driver)\n",
    "\n",
    "    all_teachers_df.loc[row,['teacher_type', 'is_native','main_info', 'country_from',\n",
    "                             'country_living', 'rating', 'students_num', 'lessons_num', \n",
    "                             'attendance', 'response','reviews_num', \n",
    "                             'about_info', 'since_date','trial',\n",
    "                             'teacher_style', 'lessons_style', 'resume', \n",
    "                             'languages', 'all_lessons_info']] = page.teacher_info()\n",
    "                             \n",
    "    \n",
    "    driver.close()"
   ]
  },
  {
   "cell_type": "code",
   "execution_count": null,
   "id": "f79b98b0",
   "metadata": {},
   "outputs": [],
   "source": [
    "all_teachers_df.to_csv(f'teachers_database.csv', index=False)"
   ]
  },
  {
   "cell_type": "code",
   "execution_count": null,
   "id": "b631c9bc",
   "metadata": {},
   "outputs": [],
   "source": []
  }
 ],
 "metadata": {
  "kernelspec": {
   "display_name": "Python 3",
   "language": "python",
   "name": "python3"
  },
  "language_info": {
   "codemirror_mode": {
    "name": "ipython",
    "version": 3
   },
   "file_extension": ".py",
   "mimetype": "text/x-python",
   "name": "python",
   "nbconvert_exporter": "python",
   "pygments_lexer": "ipython3",
   "version": "3.8.8"
  }
 },
 "nbformat": 4,
 "nbformat_minor": 5
}
